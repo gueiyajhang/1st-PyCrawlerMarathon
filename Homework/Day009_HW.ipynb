{
 "cells": [
  {
   "cell_type": "markdown",
   "metadata": {},
   "source": [
    "# 作業\n",
    "\n",
    "以正確的副檔名下載網頁中的圖片\n",
    "範例網頁:https://www.ptt.cc/bbs/Beauty/M.1556291059.A.75A.html\n",
    "\n",
    "Note：因為 PTT 會詢問「是否滿 18 歲」，這邊可以用 cookies 繞過\n",
    "\n",
    "`requests.get(URL, cookies={'over18': '1'}`\n"
   ]
  },
  {
   "cell_type": "code",
   "execution_count": 1,
   "metadata": {},
   "outputs": [],
   "source": [
    "import requests\n",
    "import os\n",
    "\n",
    "from bs4 import BeautifulSoup\n",
    "from PIL import Image"
   ]
  },
  {
   "cell_type": "code",
   "execution_count": 2,
   "metadata": {},
   "outputs": [],
   "source": [
    "url = 'https://www.ptt.cc/bbs/Beauty/M.1556291059.A.75A.html'\n",
    "resp = requests.get(url, cookies={'over18': '1'})\n",
    "soup = BeautifulSoup(resp.text)"
   ]
  },
  {
   "cell_type": "code",
   "execution_count": 4,
   "metadata": {},
   "outputs": [
    {
     "name": "stdout",
     "output_type": "stream",
     "text": [
      "儲存圖片 downloads/Cgb5oo1.jpeg\n",
      "儲存圖片 downloads/MgjHY4f.jpeg\n",
      "儲存圖片 downloads/yeoRtAs.jpeg\n",
      "儲存圖片 downloads/wsauNEW.jpeg\n",
      "儲存圖片 downloads/IjiETcs.jpeg\n"
     ]
    }
   ],
   "source": [
    "# 決定要儲存的資料夾\n",
    "output_dir = 'downloads'\n",
    "\n",
    "# 假如資料夾不存在就新增一個資料夾\n",
    "if not os.path.exists(output_dir):\n",
    "    os.makedirs(output_dir)\n",
    "\n",
    "# 定位所有圖片的 tag\n",
    "img_tags = soup.find(id='main-content').findChildren('a')\n",
    "filterd_img_tags = [t for t in img_tags if 'https://imgur.com' in t['href']]\n",
    "for img_tag in filterd_img_tags:\n",
    "    # 取得圖片名稱\n",
    "    filename = os.path.basename(img_tag['href'])\n",
    "    # 取得圖片路徑\n",
    "    img_url = 'https://i.imgur.com/{}.jpg'.format(filename)\n",
    "    # 對圖片送出請求\n",
    "    with requests.get(img_url, stream=True) as r:\n",
    "        r.raise_for_status()\n",
    "        # 確認圖片格式\n",
    "        ext = r.headers['Content-Type'].split('/')[1]\n",
    "        with Image.open(r.raw) as img:\n",
    "            full_path = '{dir}/{name}.{ext}'.format(dir=output_dir, name=filename, ext=ext)\n",
    "            # 儲存圖片\n",
    "            img.save(full_path)\n",
    "            print('儲存圖片 {}'.format(full_path))\n",
    "    "
   ]
  },
  {
   "cell_type": "code",
   "execution_count": null,
   "metadata": {},
   "outputs": [],
   "source": []
  }
 ],
 "metadata": {
  "kernelspec": {
   "display_name": "Python 3",
   "language": "python",
   "name": "python3"
  },
  "language_info": {
   "codemirror_mode": {
    "name": "ipython",
    "version": 3
   },
   "file_extension": ".py",
   "mimetype": "text/x-python",
   "name": "python",
   "nbconvert_exporter": "python",
   "pygments_lexer": "ipython3",
   "version": "3.7.4"
  }
 },
 "nbformat": 4,
 "nbformat_minor": 2
}
