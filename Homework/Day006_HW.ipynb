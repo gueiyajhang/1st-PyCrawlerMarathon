{
 "cells": [
  {
   "cell_type": "markdown",
   "metadata": {},
   "source": [
    "# API 資料串接 - 以 知乎 API 實作範例\n",
    "\n",
    "\n",
    "\n",
    "* 了解知乎 API 使用方式與回傳內容\n",
    "* 撰寫程式存取 API 且添加標頭\n",
    "\n",
    "\n"
   ]
  },
  {
   "cell_type": "markdown",
   "metadata": {},
   "source": [
    "## 作業目標\n",
    "\n",
    "* 根據範例提供的 API ，完成以下問題：\n",
    "\n",
    "    1. 取出知乎問題發問時間\n",
    "    2. 取出第一筆與最後一筆回答的時間\n"
   ]
  },
  {
   "cell_type": "markdown",
   "metadata": {},
   "source": [
    "### 1. 取出知乎問題發問時間"
   ]
  },
  {
   "cell_type": "code",
   "execution_count": 3,
   "metadata": {},
   "outputs": [
    {
     "name": "stdout",
     "output_type": "stream",
     "text": [
      "問題發問時間：2017-02-06 22:10:29\n"
     ]
    }
   ],
   "source": [
    "# 1. 取出知乎問題發問時間\n",
    "\n",
    "import requests, json, datetime\n",
    "headers = {'user-agent': 'my-app/0.0.1'}\n",
    "r = requests.get('https://www.zhihu.com/api/v4/questions/55493026/answers',headers=headers)\n",
    "data = json.loads(r.text)\n",
    "print('問題發問時間：{}'.format(datetime.datetime.fromtimestamp(data['data'][0]['question']['created'])))"
   ]
  },
  {
   "cell_type": "markdown",
   "metadata": {},
   "source": [
    "### 2. 取出第一筆與最後一筆回答的時間"
   ]
  },
  {
   "cell_type": "code",
   "execution_count": 4,
   "metadata": {},
   "outputs": [
    {
     "name": "stdout",
     "output_type": "stream",
     "text": [
      "默認排序第一筆回答的時間：2019-05-14 17:00:12\n",
      "默認排序最後一筆回答的時間：2019-06-24 18:20:20\n",
      "時間排序由新到舊第一筆回答的時間：2019-12-08 08:38:26\n",
      "時間排序由新到舊最後一筆回答的時間：2017-02-08 22:38:04\n"
     ]
    }
   ],
   "source": [
    "# 2. 取出第一筆與最後一筆回答的時間\n",
    "\n",
    "# 取得依默認排序第一筆回答資料\n",
    "print('默認排序第一筆回答的時間：{}'.format(datetime.datetime.fromtimestamp(data['data'][0]['created_time'])))\n",
    "\n",
    "# 取得依默認排序最後一筆回答資料\n",
    "offset = int(data['paging']['totals']) - 1\n",
    "default_sort_url = 'https://www.zhihu.com/api/v4/questions/55493026/answers?limit=5&offset={}'.format(offset)\n",
    "res = requests.get(default_sort_url,headers=headers)\n",
    "data = json.loads(res.text)\n",
    "print('默認排序最後一筆回答的時間：{}'.format(datetime.datetime.fromtimestamp(data['data'][0]['created_time'])))\n",
    "\n",
    "# 取得依時間排序由新到舊第一筆回答資料\n",
    "updated_sort_url = 'https://www.zhihu.com/api/v4/questions/55493026/answers?limit=5&offset={}&sort_by=updated'.format(0)\n",
    "res = requests.get(updated_sort_url,headers=headers)\n",
    "data = json.loads(res.text)\n",
    "print('時間排序由新到舊第一筆回答的時間：{}'.format(datetime.datetime.fromtimestamp(data['data'][0]['created_time'])))\n",
    "\n",
    "# 取得依時間排序由新到舊最後一筆回答資料\n",
    "updated_sort_url = 'https://www.zhihu.com/api/v4/questions/55493026/answers?limit=5&offset={}&sort_by=updated'.format(offset)\n",
    "res = requests.get(updated_sort_url,headers=headers)\n",
    "data = json.loads(res.text)\n",
    "print('時間排序由新到舊最後一筆回答的時間：{}'.format(datetime.datetime.fromtimestamp(data['data'][0]['created_time'])))"
   ]
  },
  {
   "cell_type": "code",
   "execution_count": null,
   "metadata": {},
   "outputs": [],
   "source": []
  },
  {
   "cell_type": "code",
   "execution_count": null,
   "metadata": {},
   "outputs": [],
   "source": []
  },
  {
   "cell_type": "code",
   "execution_count": null,
   "metadata": {},
   "outputs": [],
   "source": []
  }
 ],
 "metadata": {
  "kernelspec": {
   "display_name": "Python 3",
   "language": "python",
   "name": "python3"
  },
  "language_info": {
   "codemirror_mode": {
    "name": "ipython",
    "version": 3
   },
   "file_extension": ".py",
   "mimetype": "text/x-python",
   "name": "python",
   "nbconvert_exporter": "python",
   "pygments_lexer": "ipython3",
   "version": "3.7.4"
  }
 },
 "nbformat": 4,
 "nbformat_minor": 2
}
