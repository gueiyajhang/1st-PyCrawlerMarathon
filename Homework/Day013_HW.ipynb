{
 "cells": [
  {
   "cell_type": "markdown",
   "metadata": {},
   "source": [
    "# PTT 網路爬蟲實作練習\n",
    "\n",
    "\n",
    "* 能夠利用 Request + BeatifulSour 撰寫爬蟲，並存放到合適的資料結構\n"
   ]
  },
  {
   "cell_type": "markdown",
   "metadata": {},
   "source": [
    "## 作業目標\n",
    "\n",
    "根據範例 ，完成以下問題：\n",
    "\n",
    "* ① 印出最新文章的「作者」「標題」「時間」\n",
    "* ② 印出第一頁所有文章的「作者」「標題」「時間」\n"
   ]
  },
  {
   "cell_type": "markdown",
   "metadata": {},
   "source": [
    "### ① 印出最新文章的「作者」「標題」「時間」"
   ]
  },
  {
   "cell_type": "code",
   "execution_count": 1,
   "metadata": {},
   "outputs": [
    {
     "name": "stdout",
     "output_type": "stream",
     "text": [
      "作者: james008 (籃球玩家)\n",
      "標題: [新聞] 空手而回 湖人補強鎖定買斷市場上3將\n",
      "時間: Sun Feb  9 14:06:04 2020\n"
     ]
    }
   ],
   "source": [
    "import requests\n",
    "from bs4 import BeautifulSoup\n",
    "\n",
    "url = 'https://www.ptt.cc/bbs/NBA/index.html'\n",
    "r = requests.get(url)\n",
    "\n",
    "soup = BeautifulSoup(r.text, \"html5lib\")\n",
    "new_article_url = 'https://www.ptt.cc'+soup.find_all(class_=\"title\")[0].find('a')['href']\n",
    "new_article_html = BeautifulSoup(requests.get(new_article_url).text, \"html5lib\")\n",
    "print('作者: ' + new_article_html.find(class_='article-meta-value').text)\n",
    "print('標題: ' + new_article_html.find_all(class_='article-meta-value')[2].text)\n",
    "print('時間: ' + new_article_html.find_all(class_='article-meta-value')[3].text)"
   ]
  },
  {
   "cell_type": "markdown",
   "metadata": {},
   "source": [
    "### ② 印出第一頁所有文章的「作者」「標題」「時間」"
   ]
  },
  {
   "cell_type": "code",
   "execution_count": 2,
   "metadata": {},
   "outputs": [
    {
     "name": "stdout",
     "output_type": "stream",
     "text": [
      "[新聞] 空手而回 湖人補強鎖定買斷市場上3將\n",
      "作者: james008 (籃球玩家)\n",
      "時間: Sun Feb  9 14:06:04 2020\n",
      "[情報]  LBJ生涯三分上升至歷史第15\n",
      "作者: NSYSUheng (Pain)\n",
      "時間: Sun Feb  9 14:48:44 2020\n",
      "[新聞] 無懼挑戰湖人禁區　威金斯來勇士首戰就\n",
      "作者: fukawa947 (交大薛之謙)\n",
      "時間: Sun Feb  9 15:03:48 2020\n",
      "[花邊] 詹皇、一眉哥聯手爭冠 專家點出湖人3大\n",
      "作者: PttGod (PttGod)\n",
      "時間: Sun Feb  9 15:20:11 2020\n",
      "[情報] NBA Standings (Feb. 09, 2020)\n",
      "作者: a78998042a (Benjimin)\n",
      "時間: Sun Feb  9 15:30:11 2020\n",
      "[花邊] 誤判葬送贏球契機 安東尼：輸也要輸得公平\n",
      "作者: thnlkj0665 (灰色地帶)\n",
      "時間: Sun Feb  9 15:38:50 2020\n",
      "[花邊] KD在節目上解釋當初離開雷霆的原因\n",
      "作者: tigerlolz (Tigerrrr)\n",
      "時間: Sun Feb  9 16:42:50 2020\n",
      "Re: [花邊] KD在節目上解釋當初離開雷霆的原因\n",
      "作者: namie810303 (NBA)\n",
      "時間: Sun Feb  9 16:57:18 2020\n",
      "[新聞]羅素 維金斯互換東家 格林：這是雙贏交易\n",
      "作者: sodistrues (true)\n",
      "時間: Sun Feb  9 17:29:59 2020\n",
      "Re: [花邊] KD在節目上解釋當初離開雷霆的原因\n",
      "作者: a1223356 (京)\n",
      "時間: Sun Feb  9 17:36:55 2020\n",
      "[BOX ] Nuggets 117:108 Suns\n",
      "[BOX ] Spurs 102:122 Kings\n",
      "[討論] 緯來體育台轉播KOBE明星賽\n",
      "作者: leokailin (韋恩)\n",
      "時間: Sun Feb  9 18:08:53 2020\n",
      "Re: [花邊] KD在節目上解釋當初離開雷霆的原因\n",
      "作者: love1500274 (CoWuCoWu)\n",
      "時間: Sun Feb  9 18:22:08 2020\n",
      "[情報] LBJ 本季34場至少送出10助攻 創下生涯新高\n",
      "作者: thnlkj0665 (灰色地帶)\n",
      "時間: Sun Feb  9 19:22:20 2020\n",
      "Re: [花邊] KD在節目上解釋當初離開雷霆的原因\n",
      "作者: QoGIVoQ (1 week era)\n",
      "時間: Sun Feb  9 19:51:33 2020\n",
      "[花邊] (創作)MJ &LBJ 一起緬懷老大\n",
      "作者: Wall62 ()\n",
      "時間: Sun Feb  9 19:54:08 2020\n",
      "[花邊] TT談球隊交易得到抓猛：簡直就是搶劫\n",
      "作者: s27052705 (小飽)\n",
      "時間: Sun Feb  9 20:18:57 2020\n",
      "[情報] Wiggins:我一直想要成為贏球的人\n",
      "作者: pneumo (超☆冒險蓋)\n",
      "時間: Sun Feb  9 21:05:42 2020\n",
      "[公告] 板規v6.8\n",
      "[公告] 樂透取消及未來不再開啟樂透\n",
      "作者: Vedan (味丹)\n",
      "時間: Mon Jun 24 15:08:02 2019\n",
      "[公告] 版主上任相關事項 \n",
      "作者: qazwsx879345 (Rajon Rondo)\n",
      "時間: Fri Oct 25 10:44:03 2019\n",
      "[情報] SEASON Schedule 賽程 February 19–20\n",
      "作者: Acetoxy (阿斯)\n",
      "時間: Fri Jan 31 22:36:43 2020\n"
     ]
    }
   ],
   "source": [
    "url = 'https://www.ptt.cc/bbs/NBA/index.html'\n",
    "r = requests.get(url)\n",
    "\n",
    "soup = BeautifulSoup(r.text, \"html5lib\")\n",
    "\n",
    "for d in soup.find_all(class_=\"title\"):\n",
    "    print(d.text.replace('\\t', '').replace('\\n', ''))\n",
    "    try:\n",
    "        r = BeautifulSoup(requests.get('https://www.ptt.cc'+d.find('a')['href']).text, \"html5lib\")\n",
    "        print('作者: ' + r.find(class_='article-meta-value').text)\n",
    "        print('時間: ' + r.find_all(class_='article-meta-value')[3].text)\n",
    "    except:\n",
    "        continue"
   ]
  },
  {
   "cell_type": "markdown",
   "metadata": {},
   "source": [
    "### ③ 試著爬爬看其他版的文章"
   ]
  },
  {
   "cell_type": "code",
   "execution_count": 3,
   "metadata": {},
   "outputs": [
    {
     "name": "stdout",
     "output_type": "stream",
     "text": [
      "作者: kusomanfcu (POE yea開始急速惡化了（)\n",
      "標題: Re: [心得] 最後的 1500 點\n",
      "時間: Sun Feb  9 14:09:38 2020\n"
     ]
    }
   ],
   "source": [
    "url = 'https://www.ptt.cc/bbs/Stock/index.html'\n",
    "r = requests.get(url)\n",
    "\n",
    "soup = BeautifulSoup(r.text, \"html5lib\")\n",
    "new_article_url = 'https://www.ptt.cc'+soup.find_all(class_=\"title\")[0].find('a')['href']\n",
    "new_article_html = BeautifulSoup(requests.get(new_article_url).text, \"html5lib\")\n",
    "print('作者: ' + new_article_html.find(class_='article-meta-value').text)\n",
    "print('標題: ' + new_article_html.find_all(class_='article-meta-value')[2].text)\n",
    "print('時間: ' + new_article_html.find_all(class_='article-meta-value')[3].text)"
   ]
  },
  {
   "cell_type": "code",
   "execution_count": null,
   "metadata": {},
   "outputs": [],
   "source": []
  }
 ],
 "metadata": {
  "kernelspec": {
   "display_name": "Python 3",
   "language": "python",
   "name": "python3"
  },
  "language_info": {
   "codemirror_mode": {
    "name": "ipython",
    "version": 3
   },
   "file_extension": ".py",
   "mimetype": "text/x-python",
   "name": "python",
   "nbconvert_exporter": "python",
   "pygments_lexer": "ipython3",
   "version": "3.7.4"
  }
 },
 "nbformat": 4,
 "nbformat_minor": 2
}
