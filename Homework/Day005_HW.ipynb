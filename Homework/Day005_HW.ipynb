{
 "cells": [
  {
   "cell_type": "markdown",
   "metadata": {},
   "source": [
    "# API 資料串接 - 以 Dcard API 實作範例\n",
    "\n",
    "* 利用 urllib 套件的 urlretrieve 方法下載檔案\n",
    "* 了解 Python File I/O 讀檔、寫檔的用法\n",
    "* 能用運用資源管理器 With Statement 優化寫法"
   ]
  },
  {
   "cell_type": "markdown",
   "metadata": {},
   "source": [
    "## 作業目標\n",
    "\n",
    "* 請利用 API: https://www.dcard.tw/_api/forums/pet/posts?popular=true 回答下列問題：\n",
    "\n",
    "1. 這個 API 一次會回傳幾筆資料？每一筆資料包含哪些欄位？\n",
    "2. 取出每一筆資料的「標題」、「貼文時間」、「留言人數」、「按讚人數」\n",
    "3. 計算熱門/非熱門文章的「平均留言人數」與「平均按讚人數」"
   ]
  },
  {
   "cell_type": "code",
   "execution_count": 2,
   "metadata": {},
   "outputs": [
    {
     "name": "stdout",
     "output_type": "stream",
     "text": [
      "回傳 30 筆資料\n",
      "每一筆包含以下欄位：['id', 'title', 'excerpt', 'anonymousSchool', 'anonymousDepartment', 'pinned', 'forumId', 'replyId', 'createdAt', 'updatedAt', 'commentCount', 'likeCount', 'withNickname', 'tags', 'topics', 'meta', 'forumName', 'forumAlias', 'gender', 'school', 'replyTitle', 'mediaMeta', 'reactions', 'hidden', 'customStyle', 'isSuspiciousAccount', 'layout', 'withImages', 'withVideos', 'media', 'reportReasonText', 'postAvatar']\n"
     ]
    }
   ],
   "source": [
    "# 1. 這個 API 一次會回傳幾筆資料？每一筆資料包含哪些欄位？\n",
    "\n",
    "import requests, json\n",
    "r = requests.get('https://www.dcard.tw/_api/forums/pet/posts?popular=true')\n",
    "popular_data = json.loads(r.text)\n",
    "print('回傳 {} 筆資料'.format(len(popular_data)))\n",
    "print('每一筆包含以下欄位：{}'.format([k for k in popular_data[0]]))"
   ]
  },
  {
   "cell_type": "code",
   "execution_count": 3,
   "metadata": {},
   "outputs": [
    {
     "name": "stdout",
     "output_type": "stream",
     "text": [
      "標題：哪裡來的天使                         \t貼文時間：2019-11-27T03:55:26.087Z \t留言人數：16 \t按讚人數：780\n",
      "標題：最近刺蝟有點苦惱……                     \t貼文時間：2019-11-27T14:09:04.187Z \t留言人數：16 \t按讚人數：649\n",
      "標題：有沒有人想要認養貓😢                     \t貼文時間：2019-11-27T04:05:54.907Z \t留言人數：20 \t按讚人數：314\n",
      "標題：貓咪送養                           \t貼文時間：2019-11-27T15:53:37.579Z \t留言人數：7 \t按讚人數：124\n",
      "標題：我好像養了一顆球（？                     \t貼文時間：2019-11-27T02:51:29.228Z \t留言人數：10 \t按讚人數：82\n",
      "標題：跪求原圖                           \t貼文時間：2019-11-27T09:03:30.781Z \t留言人數：7 \t按讚人數：62\n",
      "標題：可愛ㄉ米克斯🐶                        \t貼文時間：2019-11-27T03:08:52.535Z \t留言人數：12 \t按讚人數：60\n",
      "標題：這些狗你認識嗎😍                       \t貼文時間：2019-11-28T04:08:18.539Z \t留言人數：6 \t按讚人數：57\n",
      "標題：教不到2天就會握手的貓？！                  \t貼文時間：2019-11-27T19:05:47.181Z \t留言人數：23 \t按讚人數：51\n",
      "標題：小cookie 一歲生日嘍                  \t貼文時間：2019-11-27T13:29:28.841Z \t留言人數：3 \t按讚人數：48\n",
      "標題：充滿柴柴的人生❤️                      \t貼文時間：2019-11-28T07:19:45.391Z \t留言人數：2 \t按讚人數：44\n",
      "標題：兔子吃草a跩樣                        \t貼文時間：2019-11-27T17:48:07.040Z \t留言人數：3 \t按讚人數：34\n",
      "標題：開箱ㄐㄅ貓貓                         \t貼文時間：2019-11-27T16:20:13.198Z \t留言人數：1 \t按讚人數：32\n",
      "標題：送養貓咪                           \t貼文時間：2019-11-27T14:33:01.950Z \t留言人數：2 \t按讚人數：30\n",
      "標題：耐ㄍ⋯                            \t貼文時間：2019-11-27T16:36:38.742Z \t留言人數：7 \t按讚人數：26\n",
      "標題：#更新  尋貓啟示（拜託幫幫忙                \t貼文時間：2019-11-27T02:42:25.099Z \t留言人數：2 \t按讚人數：26\n",
      "標題：紙袋破壞王🏆                         \t貼文時間：2019-11-28T09:43:33.709Z \t留言人數：2 \t按讚人數：23\n",
      "標題：請問這樣算不算虐貓                      \t貼文時間：2019-11-28T09:04:40.825Z \t留言人數：8 \t按讚人數：23\n",
      "標題：尋貓啟示 更新#高雄岡山岡燕路全聯附近            \t貼文時間：2019-11-27T11:11:21.836Z \t留言人數：8 \t按讚人數：23\n",
      "標題：高科大校板的遺失倉鼠                     \t貼文時間：2019-11-28T05:23:12.530Z \t留言人數：0 \t按讚人數：20\n",
      "標題：幼貓送養文                          \t貼文時間：2019-11-28T02:52:25.651Z \t留言人數：4 \t按讚人數：20\n",
      "標題：妳的柯基犬很可愛                       \t貼文時間：2019-11-27T12:15:40.192Z \t留言人數：12 \t按讚人數：20\n",
      "標題：蛇蛇吃飯（不喜勿入喔                     \t貼文時間：2019-11-27T07:36:04.550Z \t留言人數：6 \t按讚人數：20\n",
      "標題：貓咪要如何避免被自己的💩臭死？                \t貼文時間：2019-11-27T14:33:19.704Z \t留言人數：2 \t按讚人數：15\n",
      "標題：#募款 #貓 愛在街角，守護浪貓               \t貼文時間：2019-11-28T07:11:04.741Z \t留言人數：1 \t按讚人數：14\n",
      "標題：終於知道去哪裡學來的睡姿⋯⋯                 \t貼文時間：2019-11-27T08:59:09.803Z \t留言人數：8 \t按讚人數：14\n",
      "標題：沒有責任感根本沒資格養寵物                  \t貼文時間：2019-11-28T11:47:21.176Z \t留言人數：2 \t按讚人數：11\n",
      "標題：#圖多 偷看🐹上廁所......               \t貼文時間：2019-11-28T13:44:17.224Z \t留言人數：2 \t按讚人數：10\n",
      "標題：兄弟貓🧐                           \t貼文時間：2019-11-28T12:25:11.285Z \t留言人數：2 \t按讚人數：10\n",
      "標題：當我的貓和海豹都是一個囧臉                  \t貼文時間：2019-11-28T05:35:09.787Z \t留言人數：3 \t按讚人數：10\n"
     ]
    }
   ],
   "source": [
    "# 2. 取出每一筆資料的「標題」、「貼文時間」、「留言人數」、「按讚人數」\n",
    "\n",
    "for item in popular_data:\n",
    "    print('標題：{:30} \\t貼文時間：{} \\t留言人數：{} \\t按讚人數：{}'.format(item['title'], item['createdAt'], item['commentCount'], item['likeCount']))"
   ]
  },
  {
   "cell_type": "code",
   "execution_count": 6,
   "metadata": {},
   "outputs": [
    {
     "name": "stdout",
     "output_type": "stream",
     "text": [
      "熱門文章共 30 筆\n",
      "總留言人數： 191 筆\n",
      "平均留言人數： 6.37 筆\n",
      "總按讚人數： 2652 筆\n",
      "平均按讚人數： 88.4 筆\n",
      "------------------------------\n",
      "非熱門文章共 30 筆\n",
      "總留言人數： 58 筆\n",
      "平均留言人數： 1.93 筆\n",
      "總按讚人數： 318 筆\n",
      "平均按讚人數： 10.6 筆\n"
     ]
    }
   ],
   "source": [
    "# 3. 計算熱門/非熱門文章的「平均留言人數」與「平均按讚人數」\n",
    "r = requests.get('https://www.dcard.tw/_api/forums/pet/posts?popular=true')\n",
    "popular_data = json.loads(r.text)\n",
    "print('熱門文章共 {} 筆'.format(len(popular_data)))\n",
    "print('總留言人數： {} 筆'.format(sum([int(item['commentCount']) for item in popular_data ])))\n",
    "print('平均留言人數： {} 筆'.format(round(sum([int(item['commentCount']) for item in popular_data ]) / len(popular_data), 2)))\n",
    "print('總按讚人數： {} 筆'.format(sum([int(item['likeCount']) for item in popular_data ])))\n",
    "print('平均按讚人數： {} 筆'.format(round(sum([int(item['likeCount']) for item in popular_data ]) / len(popular_data), 2)))\n",
    "print(\"-\" * 30)\n",
    "\n",
    "r = requests.get('https://www.dcard.tw/_api/forums/pet/posts?popular=false')\n",
    "not_popular_data = json.loads(r.text)\n",
    "print('非熱門文章共 {} 筆'.format(len(not_popular_data)))\n",
    "print('總留言人數： {} 筆'.format(sum([int(item['commentCount']) for item in not_popular_data ])))\n",
    "print('平均留言人數： {} 筆'.format(round(sum([int(item['commentCount']) for item in not_popular_data ]) / len(not_popular_data),2)))\n",
    "print('總按讚人數： {} 筆'.format(sum([int(item['likeCount']) for item in not_popular_data ])))\n",
    "print('平均按讚人數： {} 筆'.format(round(sum([int(item['likeCount']) for item in not_popular_data ]) / len(not_popular_data),2)))"
   ]
  },
  {
   "cell_type": "code",
   "execution_count": null,
   "metadata": {},
   "outputs": [],
   "source": []
  },
  {
   "cell_type": "code",
   "execution_count": null,
   "metadata": {},
   "outputs": [],
   "source": []
  }
 ],
 "metadata": {
  "kernelspec": {
   "display_name": "Python 3",
   "language": "python",
   "name": "python3"
  },
  "language_info": {
   "codemirror_mode": {
    "name": "ipython",
    "version": 3
   },
   "file_extension": ".py",
   "mimetype": "text/x-python",
   "name": "python",
   "nbconvert_exporter": "python",
   "pygments_lexer": "ipython3",
   "version": "3.7.4"
  }
 },
 "nbformat": 4,
 "nbformat_minor": 2
}
