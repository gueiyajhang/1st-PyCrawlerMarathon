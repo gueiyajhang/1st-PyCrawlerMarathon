{
 "cells": [
  {
   "cell_type": "markdown",
   "metadata": {},
   "source": [
    "# Python 下載XML檔案與解析\n",
    "\n",
    "\n",
    "* 了解 xml 檔案格式與內容\n",
    "* 能夠利用套件存取 xml 格式的檔案\n"
   ]
  },
  {
   "cell_type": "markdown",
   "metadata": {},
   "source": [
    "## 作業目標\n",
    "\n",
    "* 比較一下範例檔案中的「File I/O」與「xmltodict」讀出來的內容有什麼差異\n",
    "\n",
    "* 根據範例檔案的結果：\n",
    "    1. 請問高雄市有多少地區有溫度資料？\n",
    "    2. 請取出每一個地區所記錄的第一個時間點跟溫度\n",
    "    3. 請取出第一個地區所記錄的每一個時間點跟溫度"
   ]
  },
  {
   "cell_type": "markdown",
   "metadata": {},
   "source": [
    "### 比較一下範例檔案中的「File I/O」與「xmltodict」讀出來的內容有什麼差異\n"
   ]
  },
  {
   "cell_type": "code",
   "execution_count": 2,
   "metadata": {},
   "outputs": [
    {
     "name": "stdout",
     "output_type": "stream",
     "text": [
      "File I/O 內容類型：<class 'str'>\n",
      "xmltodict 內容類型：<class 'dict'>\n"
     ]
    }
   ],
   "source": [
    "import xmltodict\n",
    "with open('./data/64_72hr_CH.xml','r',encoding='utf-8') as f:\n",
    "    content = f.read()\n",
    "    print('File I/O 內容類型：{}'.format(type(content)))\n",
    "with open('./data/64_72hr_CH.xml','r',encoding='utf-8') as f:\n",
    "    content = dict(xmltodict.parse(f.read()))\n",
    "    print('xmltodict 內容類型：{}'.format(type(content)))"
   ]
  },
  {
   "cell_type": "markdown",
   "metadata": {},
   "source": [
    "### 根據範例檔案的結果：\n",
    "\n",
    "1. 請問高雄市有多少地區有溫度資料？\n",
    "2. 請取出每一個地區所記錄的第一個時間點跟溫度\n",
    "3. 請取出第一個地區所記錄的每一個時間點跟溫度"
   ]
  },
  {
   "cell_type": "code",
   "execution_count": 3,
   "metadata": {},
   "outputs": [
    {
     "name": "stdout",
     "output_type": "stream",
     "text": [
      "38\n"
     ]
    }
   ],
   "source": [
    "# 1. 請問高雄市有多少地區有溫度資料？\n",
    "\n",
    "with open('./data/64_72hr_CH.xml', 'r', encoding='utf-8') as fd:\n",
    "    doc = dict(xmltodict.parse(fd.read()))\n",
    "    print(len(doc['cwbopendata']['dataset']['locations']['location']))"
   ]
  },
  {
   "cell_type": "code",
   "execution_count": 4,
   "metadata": {},
   "outputs": [
    {
     "name": "stdout",
     "output_type": "stream",
     "text": [
      "{'鹽埕區': ['2019-06-28T12:00:00+08:00', '33'], '鼓山區': ['2019-06-28T12:00:00+08:00', '33'], '左營區': ['2019-06-28T12:00:00+08:00', '33'], '楠梓區': ['2019-06-28T12:00:00+08:00', '34'], '三民區': ['2019-06-28T12:00:00+08:00', '32'], '新興區': ['2019-06-28T12:00:00+08:00', '33'], '前金區': ['2019-06-28T12:00:00+08:00', '33'], '苓雅區': ['2019-06-28T12:00:00+08:00', '33'], '前鎮區': ['2019-06-28T12:00:00+08:00', '33'], '旗津區': ['2019-06-28T12:00:00+08:00', '32'], '小港區': ['2019-06-28T12:00:00+08:00', '33'], '鳳山區': ['2019-06-28T12:00:00+08:00', '34'], '林園區': ['2019-06-28T12:00:00+08:00', '33'], '大寮區': ['2019-06-28T12:00:00+08:00', '34'], '大樹區': ['2019-06-28T12:00:00+08:00', '34'], '大社區': ['2019-06-28T12:00:00+08:00', '34'], '仁武區': ['2019-06-28T12:00:00+08:00', '33'], '鳥松區': ['2019-06-28T12:00:00+08:00', '34'], '岡山區': ['2019-06-28T12:00:00+08:00', '34'], '橋頭區': ['2019-06-28T12:00:00+08:00', '35'], '燕巢區': ['2019-06-28T12:00:00+08:00', '34'], '田寮區': ['2019-06-28T12:00:00+08:00', '34'], '阿蓮區': ['2019-06-28T12:00:00+08:00', '34'], '路竹區': ['2019-06-28T12:00:00+08:00', '33'], '湖內區': ['2019-06-28T12:00:00+08:00', '33'], '茄萣區': ['2019-06-28T12:00:00+08:00', '33'], '永安區': ['2019-06-28T12:00:00+08:00', '32'], '彌陀區': ['2019-06-28T12:00:00+08:00', '32'], '梓官區': ['2019-06-28T12:00:00+08:00', '32'], '旗山區': ['2019-06-28T12:00:00+08:00', '34'], '美濃區': ['2019-06-28T12:00:00+08:00', '34'], '六龜區': ['2019-06-28T12:00:00+08:00', '34'], '甲仙區': ['2019-06-28T12:00:00+08:00', '33'], '杉林區': ['2019-06-28T12:00:00+08:00', '36'], '內門區': ['2019-06-28T12:00:00+08:00', '34'], '茂林區': ['2019-06-28T12:00:00+08:00', '34'], '桃源區': ['2019-06-28T12:00:00+08:00', '31'], '那瑪夏區': ['2019-06-28T12:00:00+08:00', '29']}\n"
     ]
    }
   ],
   "source": [
    "# 2. 請取出每一個地區所記錄的第一個時間點跟溫度\n",
    "\n",
    "with open('./data/64_72hr_CH.xml', 'r', encoding='utf-8') as fd:\n",
    "    doc = dict(xmltodict.parse(fd.read()))\n",
    "    print(dict([(location['locationName'], [location['weatherElement'][0]['time'][0]['dataTime'], location['weatherElement'][0]['time'][0]['elementValue']['value']]) for location in doc['cwbopendata']['dataset']['locations']['location']]))"
   ]
  },
  {
   "cell_type": "code",
   "execution_count": 5,
   "metadata": {},
   "outputs": [
    {
     "name": "stdout",
     "output_type": "stream",
     "text": [
      "{'2019-06-28T12:00:00+08:00': '33', '2019-06-28T15:00:00+08:00': '33', '2019-06-28T18:00:00+08:00': '32', '2019-06-28T21:00:00+08:00': '30', '2019-06-29T00:00:00+08:00': '30', '2019-06-29T03:00:00+08:00': '29', '2019-06-29T06:00:00+08:00': '28', '2019-06-29T09:00:00+08:00': '31', '2019-06-29T12:00:00+08:00': '32', '2019-06-29T15:00:00+08:00': '32', '2019-06-29T18:00:00+08:00': '31', '2019-06-29T21:00:00+08:00': '30', '2019-06-30T00:00:00+08:00': '29', '2019-06-30T03:00:00+08:00': '28', '2019-06-30T06:00:00+08:00': '28', '2019-06-30T09:00:00+08:00': '31', '2019-06-30T12:00:00+08:00': '32', '2019-06-30T15:00:00+08:00': '32', '2019-06-30T18:00:00+08:00': '31', '2019-06-30T21:00:00+08:00': '30', '2019-07-01T00:00:00+08:00': '29', '2019-07-01T03:00:00+08:00': '29', '2019-07-01T06:00:00+08:00': '28', '2019-07-01T09:00:00+08:00': '31'}\n"
     ]
    }
   ],
   "source": [
    "# 3. 請取出第一個地區所記錄的每一個時間點跟溫度\n",
    "\n",
    "with open('./data/64_72hr_CH.xml', 'r', encoding='utf-8') as fd:\n",
    "    doc = dict(xmltodict.parse(fd.read()))\n",
    "    print(dict([(time['dataTime'], time['elementValue']['value']) for time in doc['cwbopendata']['dataset']['locations']['location'][0]['weatherElement'][0]['time']]))"
   ]
  },
  {
   "cell_type": "code",
   "execution_count": null,
   "metadata": {},
   "outputs": [],
   "source": []
  }
 ],
 "metadata": {
  "kernelspec": {
   "display_name": "Python 3",
   "language": "python",
   "name": "python3"
  },
  "language_info": {
   "codemirror_mode": {
    "name": "ipython",
    "version": 3
   },
   "file_extension": ".py",
   "mimetype": "text/x-python",
   "name": "python",
   "nbconvert_exporter": "python",
   "pygments_lexer": "ipython3",
   "version": "3.7.4"
  }
 },
 "nbformat": 4,
 "nbformat_minor": 2
}
