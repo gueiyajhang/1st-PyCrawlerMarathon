{
 "cells": [
  {
   "cell_type": "markdown",
   "metadata": {},
   "source": [
    "# 空氣污染監測網 網路爬蟲實作練習\n",
    "\n",
    "\n",
    "* 能夠利用 selenium + BeautifulSoup 撰寫爬蟲，並存放到合適的資料結構\n"
   ]
  },
  {
   "cell_type": "markdown",
   "metadata": {},
   "source": [
    "## 作業目標\n",
    "\n",
    "根據範例 ，完成以下問題：\n",
    "\n",
    "* ① 取出 台北市士林區 2018/01 – 2018/08 的 SO2 資料\n",
    "* ② 取出 台北市士林區 2018/01 – 2018/08 的 SO2、CO 資料\n",
    "\n",
    "\n",
    "\n"
   ]
  },
  {
   "cell_type": "markdown",
   "metadata": {},
   "source": [
    "### ① 取出 台北市士林區 2018/01 – 2018/08 的 SO2 資料"
   ]
  },
  {
   "cell_type": "code",
   "execution_count": 2,
   "metadata": {},
   "outputs": [],
   "source": [
    "# 打開瀏覽器\n",
    "\n",
    "from selenium import webdriver\n",
    "from selenium.webdriver.support.ui import Select\n",
    "from bs4 import BeautifulSoup\n",
    "import pandas as pd\n",
    "\n",
    "browser = webdriver.Chrome(executable_path='../chromedriver')\n",
    "\n",
    "browser.get(\"http://taqm.epa.gov.tw/taqm/tw/MonthlyAverage.aspx\")\n",
    "\n",
    "# 模擬使用者操作行為，選擇/點擊\n",
    "\n",
    "selectSite = Select(browser.find_element_by_id(\"ctl05_ddlSite\"))\n",
    "selectSite.select_by_value('11')\n",
    "selectYear = Select(browser.find_element_by_id(\"ctl05_ddlYear\"))\n",
    "selectYear.select_by_value('2018')\n",
    "\n",
    "browser.find_element_by_id('ctl05_btnQuery').click()\n"
   ]
  },
  {
   "cell_type": "code",
   "execution_count": 3,
   "metadata": {},
   "outputs": [
    {
     "name": "stdout",
     "output_type": "stream",
     "text": [
      "          SO2\n",
      "2018/01  1.80\n",
      "2018/02  1.90\n",
      "2018/03  2.20\n",
      "2018/04  2.30\n",
      "2018/05  3.10\n",
      "2018/06  2.70\n",
      "2018/07  2.20\n",
      "2018/08  2.40\n"
     ]
    }
   ],
   "source": [
    "# 取得資料，丟到 BeautifulSoup 解析\n",
    "\n",
    "html_source = browser.page_source\n",
    "\n",
    "soup = BeautifulSoup(html_source, 'html.parser')\n",
    "table = soup.find('table', class_='TABLE_G')\n",
    "\n",
    "trs = table.find_all('tr')\n",
    "category_name = ''\n",
    "date_data = {}\n",
    "d = {}\n",
    "idx = 1\n",
    "\n",
    "for  tr in trs[1:9]:\n",
    "    category_td = tr.find('td', class_='no-alt')\n",
    "    category_name = category_td.text if category_td else category_name\n",
    "    date = tr.find_all('td', class_=None)[0].text\n",
    "    data = tr.find_all('td', class_=None)[1].text\n",
    "    date_data[date] = data\n",
    "    if idx == 8:\n",
    "        date = tr.find_all('td', class_=None)[0].text\n",
    "        data = tr.find_all('td', class_=None)[1].text\n",
    "        date_data[date] = data\n",
    "        d[category_name] = date_data\n",
    "\n",
    "    idx += 1  \n",
    "\n",
    "print(pd.DataFrame(d))"
   ]
  },
  {
   "cell_type": "markdown",
   "metadata": {},
   "source": [
    "### ② 取出 台北市士林區 2018/01 – 2018/08 的 SO2、CO 資料"
   ]
  },
  {
   "cell_type": "code",
   "execution_count": 4,
   "metadata": {},
   "outputs": [
    {
     "name": "stdout",
     "output_type": "stream",
     "text": [
      "          SO2    CO\n",
      "2018/01  1.80  0.34\n",
      "2018/02  1.90  0.44\n",
      "2018/03  2.20  0.40\n",
      "2018/04  2.30  0.38\n",
      "2018/05  3.10  0.34\n",
      "2018/06  2.70  0.29\n",
      "2018/07  2.20  0.21\n",
      "2018/08  2.40  0.30\n"
     ]
    }
   ],
   "source": [
    "trs = table.find_all('tr')\n",
    "category_name = ''\n",
    "date_data = {}\n",
    "d = {}\n",
    "idx = 1\n",
    "\n",
    "for  tr in trs[1:9]+trs[13:21]:\n",
    "    category_td = tr.find('td', class_='no-alt')\n",
    "    category_name = category_td.text if category_td else category_name\n",
    "    date = tr.find_all('td', class_=None)[0].text\n",
    "    data = tr.find_all('td', class_=None)[1].text\n",
    "    date_data[date] = data\n",
    "    if idx == 8 or idx == 16:\n",
    "        date = tr.find_all('td', class_=None)[0].text\n",
    "        data = tr.find_all('td', class_=None)[1].text\n",
    "        date_data[date] = data\n",
    "        d[category_name] = date_data\n",
    "        date_data = {}\n",
    "    idx += 1  \n",
    "\n",
    "print(pd.DataFrame(d))"
   ]
  },
  {
   "cell_type": "code",
   "execution_count": 5,
   "metadata": {},
   "outputs": [],
   "source": [
    "# 關閉瀏覽器\n",
    "browser.quit();"
   ]
  },
  {
   "cell_type": "code",
   "execution_count": null,
   "metadata": {},
   "outputs": [],
   "source": []
  }
 ],
 "metadata": {
  "kernelspec": {
   "display_name": "Python 3",
   "language": "python",
   "name": "python3"
  },
  "language_info": {
   "codemirror_mode": {
    "name": "ipython",
    "version": 3
   },
   "file_extension": ".py",
   "mimetype": "text/x-python",
   "name": "python",
   "nbconvert_exporter": "python",
   "pygments_lexer": "ipython3",
   "version": "3.7.4"
  }
 },
 "nbformat": 4,
 "nbformat_minor": 2
}
